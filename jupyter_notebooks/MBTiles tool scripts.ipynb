{
 "cells": [
  {
   "cell_type": "code",
   "execution_count": 1,
   "id": "thermal-profile",
   "metadata": {},
   "outputs": [],
   "source": [
    "from tilepack.builder import build_tile_packages\n",
    "from configparser import ConfigParser\n",
    "import os\n",
    "import shutil\n",
    "import secrets as secrets\n",
    "from glob import glob, iglob\n",
    "from pathlib import Path\n",
    "import zipfile\n",
    "import json\n",
    "\n",
    "os.environ[\"MAPZEN_API_KEY\"] = secrets.MAPZEN_API_KEY"
   ]
  },
  {
   "cell_type": "markdown",
   "id": "naughty-nicaragua",
   "metadata": {},
   "source": [
    "# Download MBTiles & GeoJSON by script"
   ]
  },
  {
   "cell_type": "code",
   "execution_count": 2,
   "id": "angry-peace",
   "metadata": {},
   "outputs": [
    {
     "data": {
      "text/plain": [
       "{'min_lon': 14.397,\n",
       " 'min_lat': 50.1133,\n",
       " 'max_lon': 14.4137,\n",
       " 'max_lat': 50.1224,\n",
       " 'min_zoom': 16,\n",
       " 'max_zoom': 17,\n",
       " 'output': 'zoo_prague_map'}"
      ]
     },
     "execution_count": 2,
     "metadata": {},
     "output_type": "execute_result"
    }
   ],
   "source": [
    "cfg: ConfigParser = ConfigParser()\n",
    "cfg.read('../config/config.cfg')\n",
    "cfg_dict: dict = cfg._sections['mbtiles_downloader']\n",
    "cfg_dict = {\n",
    "    'min_lon': float(cfg_dict['min_lon']),\n",
    "    'min_lat': float(cfg_dict['min_lat']),\n",
    "    'max_lon': float(cfg_dict['max_lon']),\n",
    "    'max_lat': float(cfg_dict['max_lat']),\n",
    "    'min_zoom': int(cfg_dict['min_zoom']),\n",
    "    'max_zoom': int(cfg_dict['max_zoom']),\n",
    "    'output': cfg_dict['output']\n",
    "}\n",
    "cfg_dict"
   ]
  },
  {
   "cell_type": "code",
   "execution_count": 3,
   "id": "australian-cambodia",
   "metadata": {},
   "outputs": [
    {
     "name": "stdout",
     "output_type": "stream",
     "text": [
      "{'tile_size': 512, 'tile_format': 'json', 'output_formats': ['mbtiles', 'zipfile'], 'layer': 'all', 'type': 'vector', 'tile_compression': False, 'concurrency': 1, 'api_key': 'B8mtKIzWQ7e7Fg22o4LBhw', 'url_prefix': 'https://tile.nextzen.org/tilezen', 'min_lon': 14.397, 'min_lat': 50.1133, 'max_lon': 14.4137, 'max_lat': 50.1224, 'min_zoom': 16, 'max_zoom': 17, 'output': 'zoo_prague_map'}\n"
     ]
    },
    {
     "ename": "OperationalError",
     "evalue": "table tiles already exists",
     "output_type": "error",
     "traceback": [
      "\u001b[0;31m---------------------------------------------------------------------------\u001b[0m",
      "\u001b[0;31mOperationalError\u001b[0m                          Traceback (most recent call last)",
      "\u001b[0;32m<ipython-input-3-b2d9a25674ff>\u001b[0m in \u001b[0;36m<module>\u001b[0;34m\u001b[0m\n\u001b[1;32m     23\u001b[0m \u001b[0;31m# Get MBTiles & GeoJSON\u001b[0m\u001b[0;34m\u001b[0m\u001b[0;34m\u001b[0m\u001b[0;34m\u001b[0m\u001b[0m\n\u001b[1;32m     24\u001b[0m \u001b[0;32mif\u001b[0m\u001b[0;34m(\u001b[0m\u001b[0;32mnot\u001b[0m \u001b[0mgeojson_path\u001b[0m\u001b[0;34m.\u001b[0m\u001b[0mis_dir\u001b[0m\u001b[0;34m(\u001b[0m\u001b[0;34m)\u001b[0m\u001b[0;34m)\u001b[0m\u001b[0;34m:\u001b[0m\u001b[0;34m\u001b[0m\u001b[0;34m\u001b[0m\u001b[0m\n\u001b[0;32m---> 25\u001b[0;31m     \u001b[0mbuild_tile_packages\u001b[0m\u001b[0;34m(\u001b[0m\u001b[0;34m**\u001b[0m\u001b[0margs\u001b[0m\u001b[0;34m)\u001b[0m\u001b[0;34m\u001b[0m\u001b[0;34m\u001b[0m\u001b[0m\n\u001b[0m\u001b[1;32m     26\u001b[0m \u001b[0;34m\u001b[0m\u001b[0m\n\u001b[1;32m     27\u001b[0m     \u001b[0;31m# Move created files into a folder\u001b[0m\u001b[0;34m\u001b[0m\u001b[0;34m\u001b[0m\u001b[0;34m\u001b[0m\u001b[0m\n",
      "\u001b[0;32m~/Projects/Python/MastersThesis_Server/venv/lib/python3.9/site-packages/tilepack/builder.py\u001b[0m in \u001b[0;36mbuild_tile_packages\u001b[0;34m(min_lon, min_lat, max_lon, max_lat, min_zoom, max_zoom, type, layer, tile_size, tile_format, tile_compression, output, output_formats, api_key, url_prefix, concurrency)\u001b[0m\n\u001b[1;32m    130\u001b[0m \u001b[0;34m\u001b[0m\u001b[0m\n\u001b[1;32m    131\u001b[0m     \u001b[0;32mfor\u001b[0m \u001b[0mt\u001b[0m \u001b[0;32min\u001b[0m \u001b[0mtile_ouputters\u001b[0m\u001b[0;34m:\u001b[0m\u001b[0;34m\u001b[0m\u001b[0;34m\u001b[0m\u001b[0m\n\u001b[0;32m--> 132\u001b[0;31m         \u001b[0mt\u001b[0m\u001b[0;34m.\u001b[0m\u001b[0mopen\u001b[0m\u001b[0;34m(\u001b[0m\u001b[0;34m)\u001b[0m\u001b[0;34m\u001b[0m\u001b[0;34m\u001b[0m\u001b[0m\n\u001b[0m\u001b[1;32m    133\u001b[0m         \u001b[0mt\u001b[0m\u001b[0;34m.\u001b[0m\u001b[0madd_metadata\u001b[0m\u001b[0;34m(\u001b[0m\u001b[0;34m'name'\u001b[0m\u001b[0;34m,\u001b[0m \u001b[0moutput\u001b[0m\u001b[0;34m)\u001b[0m\u001b[0;34m\u001b[0m\u001b[0;34m\u001b[0m\u001b[0m\n\u001b[1;32m    134\u001b[0m         \u001b[0;31m# FIXME: Need to include the `json` key\u001b[0m\u001b[0;34m\u001b[0m\u001b[0;34m\u001b[0m\u001b[0;34m\u001b[0m\u001b[0m\n",
      "\u001b[0;32m~/Projects/Python/MastersThesis_Server/venv/lib/python3.9/site-packages/tilepack/outputter/mbtiles.py\u001b[0m in \u001b[0;36mopen\u001b[0;34m(self)\u001b[0m\n\u001b[1;32m     85\u001b[0m         \u001b[0mself\u001b[0m\u001b[0;34m.\u001b[0m\u001b[0m_cur\u001b[0m \u001b[0;34m=\u001b[0m \u001b[0mself\u001b[0m\u001b[0;34m.\u001b[0m\u001b[0m_conn\u001b[0m\u001b[0;34m.\u001b[0m\u001b[0mcursor\u001b[0m\u001b[0;34m(\u001b[0m\u001b[0;34m)\u001b[0m\u001b[0;34m\u001b[0m\u001b[0;34m\u001b[0m\u001b[0m\n\u001b[1;32m     86\u001b[0m         \u001b[0mself\u001b[0m\u001b[0;34m.\u001b[0m\u001b[0m_optimize_connection\u001b[0m\u001b[0;34m(\u001b[0m\u001b[0mself\u001b[0m\u001b[0;34m.\u001b[0m\u001b[0m_cur\u001b[0m\u001b[0;34m)\u001b[0m\u001b[0;34m\u001b[0m\u001b[0;34m\u001b[0m\u001b[0m\n\u001b[0;32m---> 87\u001b[0;31m         \u001b[0mself\u001b[0m\u001b[0;34m.\u001b[0m\u001b[0m_setup_mbtiles\u001b[0m\u001b[0;34m(\u001b[0m\u001b[0mself\u001b[0m\u001b[0;34m.\u001b[0m\u001b[0m_cur\u001b[0m\u001b[0;34m)\u001b[0m\u001b[0;34m\u001b[0m\u001b[0;34m\u001b[0m\u001b[0m\n\u001b[0m\u001b[1;32m     88\u001b[0m \u001b[0;34m\u001b[0m\u001b[0m\n\u001b[1;32m     89\u001b[0m     \u001b[0;32mdef\u001b[0m \u001b[0madd_tile\u001b[0m\u001b[0;34m(\u001b[0m\u001b[0mself\u001b[0m\u001b[0;34m,\u001b[0m \u001b[0mtile_info\u001b[0m\u001b[0;34m,\u001b[0m \u001b[0mdata\u001b[0m\u001b[0;34m)\u001b[0m\u001b[0;34m:\u001b[0m\u001b[0;34m\u001b[0m\u001b[0;34m\u001b[0m\u001b[0m\n",
      "\u001b[0;32m~/Projects/Python/MastersThesis_Server/venv/lib/python3.9/site-packages/tilepack/outputter/mbtiles.py\u001b[0m in \u001b[0;36m_setup_mbtiles\u001b[0;34m(self, cur)\u001b[0m\n\u001b[1;32m     10\u001b[0m \u001b[0;34m\u001b[0m\u001b[0m\n\u001b[1;32m     11\u001b[0m     \u001b[0;32mdef\u001b[0m \u001b[0m_setup_mbtiles\u001b[0m\u001b[0;34m(\u001b[0m\u001b[0mself\u001b[0m\u001b[0;34m,\u001b[0m \u001b[0mcur\u001b[0m\u001b[0;34m)\u001b[0m\u001b[0;34m:\u001b[0m\u001b[0;34m\u001b[0m\u001b[0;34m\u001b[0m\u001b[0m\n\u001b[0;32m---> 12\u001b[0;31m         cur.execute(\"\"\"\n\u001b[0m\u001b[1;32m     13\u001b[0m             CREATE TABLE tiles (\n\u001b[1;32m     14\u001b[0m             \u001b[0mzoom_level\u001b[0m \u001b[0minteger\u001b[0m\u001b[0;34m,\u001b[0m\u001b[0;34m\u001b[0m\u001b[0;34m\u001b[0m\u001b[0m\n",
      "\u001b[0;31mOperationalError\u001b[0m: table tiles already exists"
     ]
    }
   ],
   "source": [
    "mapzen_url_prefix = os.getenv('MAPZEN_URL_PREFIX', 'https://tile.nextzen.org/tilezen')\n",
    "mapzen_api_key = os.getenv('MAPZEN_API_KEY', None)\n",
    "if(mapzen_api_key is None):\n",
    "    raise RuntimeError('Environmental variable MAPZEN_API_KEY is not set.')\n",
    "\n",
    "args = {\n",
    "    'tile_size': 512,\n",
    "    'tile_format': 'json',\n",
    "    'output_formats': ['mbtiles', 'zipfile'],\n",
    "    'layer': 'all',\n",
    "    'type': 'vector',\n",
    "    'tile_compression': False,\n",
    "    'concurrency': 1,\n",
    "    'api_key': mapzen_api_key,\n",
    "    'url_prefix': mapzen_url_prefix\n",
    "}\n",
    "args |= cfg_dict\n",
    "print(args)\n",
    "\n",
    "folder_path = Path(args['output'])\n",
    "geojson_path = folder_path / 'geojsons'\n",
    "\n",
    "# Get MBTiles & GeoJSON\n",
    "if(not geojson_path.is_dir()):\n",
    "    build_tile_packages(**args)\n",
    "    \n",
    "    # Move created files into a folder\n",
    "    if os.path.isdir(folder_path):\n",
    "        shutil.rmtree(folder_path)\n",
    "\n",
    "    os.makedirs(folder_path)\n",
    "    for file in glob(f'{folder_path}*.*'):\n",
    "        shutil.move(file, folder_path)\n",
    "\n",
    "    # Unzip GeoJSON files\n",
    "    with zipfile.ZipFile(folder_path / f'{folder_path}.zip', 'r') as zip_ref:\n",
    "        zip_ref.extractall(geojson_path)"
   ]
  },
  {
   "cell_type": "markdown",
   "id": "automated-animation",
   "metadata": {},
   "source": [
    "## Parse GeoJSONs"
   ]
  },
  {
   "cell_type": "code",
   "execution_count": null,
   "id": "controlling-amendment",
   "metadata": {},
   "outputs": [],
   "source": [
    "# Get animal data from GeoJSONs\n",
    "for geojson in iglob(str(geojson_path / 'all' / '**/*.json'), recursive=True):\n",
    "    with open(geojson) as f:\n",
    "        data = json.load(f)\n",
    "        for poi in data['pois']['features']:\n",
    "            poi = poi['properties']\n",
    "            if(poi['kind'] == 'animal'):\n",
    "                res: dict = {\n",
    "                    '_id': poi['id'],\n",
    "                    'name': poi['name']\n",
    "                }\n",
    "                print(res)"
   ]
  },
  {
   "cell_type": "code",
   "execution_count": null,
   "id": "distant-indication",
   "metadata": {},
   "outputs": [],
   "source": [
    "# Get animal data from GeoJSONs\n",
    "res = dict()\n",
    "for geojson in iglob(str(geojson_path / 'all' / '**/*.json'), recursive=True):\n",
    "    with open(geojson) as f:\n",
    "        data = json.load(f)\n",
    "        for poi in data['buildings']['features']:\n",
    "            poi = poi['properties']\n",
    "            if(poi['kind'] == 'building' and poi.get(\"id\") is not None and poi.get(\"name\") is not None):\n",
    "                res[poi['id']] = poi['name']\n",
    "                \n",
    "print(f'There are {len(res)} buildings there.')\n",
    "\n",
    "for id_, name in res.items():\n",
    "    print(f'{id_}: {name}')"
   ]
  },
  {
   "cell_type": "code",
   "execution_count": null,
   "id": "conditional-jackson",
   "metadata": {},
   "outputs": [],
   "source": []
  }
 ],
 "metadata": {
  "kernelspec": {
   "display_name": "Python 3",
   "language": "python",
   "name": "python3"
  },
  "language_info": {
   "codemirror_mode": {
    "name": "ipython",
    "version": 3
   },
   "file_extension": ".py",
   "mimetype": "text/x-python",
   "name": "python",
   "nbconvert_exporter": "python",
   "pygments_lexer": "ipython3",
   "version": "3.9.1"
  }
 },
 "nbformat": 4,
 "nbformat_minor": 5
}
