{
 "cells": [
  {
   "cell_type": "code",
   "execution_count": 14,
   "id": "thorough-olive",
   "metadata": {},
   "outputs": [],
   "source": [
    "import boto3\n",
    "from botocore.exceptions import ClientError\n",
    "\n",
    "bucket_name = 'budikpet-zoo-prague'"
   ]
  },
  {
   "cell_type": "code",
   "execution_count": 3,
   "id": "connected-hours",
   "metadata": {},
   "outputs": [
    {
     "name": "stdout",
     "output_type": "stream",
     "text": [
      "budikpet-zoo-prague\n"
     ]
    }
   ],
   "source": [
    "s3 = boto3.resource('s3')\n",
    "for bucket in s3.buckets.all():\n",
    "    print(bucket.name)"
   ]
  },
  {
   "cell_type": "code",
   "execution_count": 6,
   "id": "driving-kenya",
   "metadata": {},
   "outputs": [],
   "source": [
    "filename = 's3_test.txt'\n",
    "with open(filename, 'w') as f:\n",
    "    f.write('Test file for S3 upload/download')"
   ]
  },
  {
   "cell_type": "markdown",
   "id": "placed-basics",
   "metadata": {},
   "source": [
    "# Upload file to S3 bucket"
   ]
  },
  {
   "cell_type": "code",
   "execution_count": 13,
   "id": "promotional-roulette",
   "metadata": {},
   "outputs": [],
   "source": [
    "filename_in_s3 = f'object_{filename}'\n",
    "\n",
    "client = boto3.client('s3')\n",
    "try:\n",
    "    response = client.upload_file(filename, bucket_name, filename_in_s3)\n",
    "except ClientError as e:\n",
    "    print(e)"
   ]
  },
  {
   "cell_type": "markdown",
   "id": "joint-amazon",
   "metadata": {},
   "source": [
    "# Download file from S3 bucket"
   ]
  },
  {
   "cell_type": "code",
   "execution_count": 17,
   "id": "dutch-visitor",
   "metadata": {},
   "outputs": [],
   "source": [
    "client = boto3.client('s3')\n",
    "client.download_file(bucket_name, filename_in_s3, filename)"
   ]
  },
  {
   "cell_type": "code",
   "execution_count": null,
   "id": "violent-brazilian",
   "metadata": {},
   "outputs": [],
   "source": []
  }
 ],
 "metadata": {
  "kernelspec": {
   "display_name": "Python 3",
   "language": "python",
   "name": "python3"
  },
  "language_info": {
   "codemirror_mode": {
    "name": "ipython",
    "version": 3
   },
   "file_extension": ".py",
   "mimetype": "text/x-python",
   "name": "python",
   "nbconvert_exporter": "python",
   "pygments_lexer": "ipython3",
   "version": "3.9.1"
  }
 },
 "nbformat": 4,
 "nbformat_minor": 5
}
