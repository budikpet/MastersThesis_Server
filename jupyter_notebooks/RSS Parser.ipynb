{
 "cells": [
  {
   "cell_type": "code",
   "execution_count": 2,
   "id": "sound-information",
   "metadata": {},
   "outputs": [],
   "source": [
    "import feedparser\n",
    "\n",
    "url = \"https://www.zoopraha.cz/?format=feed&type=rss\""
   ]
  },
  {
   "cell_type": "markdown",
   "id": "brazilian-clone",
   "metadata": {},
   "source": [
    "# Parse Zoo Prague news data"
   ]
  },
  {
   "cell_type": "code",
   "execution_count": 7,
   "id": "abandoned-spending",
   "metadata": {},
   "outputs": [],
   "source": [
    "data = feedparser.parse(url)"
   ]
  },
  {
   "cell_type": "code",
   "execution_count": 10,
   "id": "cloudy-gauge",
   "metadata": {},
   "outputs": [
    {
     "data": {
      "text/plain": [
       "10"
      ]
     },
     "execution_count": 10,
     "metadata": {},
     "output_type": "execute_result"
    }
   ],
   "source": [
    "len(data['entries'])"
   ]
  },
  {
   "cell_type": "code",
   "execution_count": null,
   "id": "czech-there",
   "metadata": {},
   "outputs": [],
   "source": []
  }
 ],
 "metadata": {
  "kernelspec": {
   "display_name": "Python 3",
   "language": "python",
   "name": "python3"
  },
  "language_info": {
   "codemirror_mode": {
    "name": "ipython",
    "version": 3
   },
   "file_extension": ".py",
   "mimetype": "text/x-python",
   "name": "python",
   "nbconvert_exporter": "python",
   "pygments_lexer": "ipython3",
   "version": "3.9.1"
  }
 },
 "nbformat": 4,
 "nbformat_minor": 5
}
