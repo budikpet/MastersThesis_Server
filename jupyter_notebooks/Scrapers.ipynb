{
 "cells": [
  {
   "cell_type": "code",
   "execution_count": 1,
   "metadata": {},
   "outputs": [],
   "source": [
    "import requests\n",
    "from bs4 import BeautifulSoup\n",
    "from urllib.parse import urlparse, urljoin\n",
    "from dataclasses import dataclass\n",
    "import re\n",
    "import os"
   ]
  },
  {
   "cell_type": "markdown",
   "metadata": {},
   "source": [
    "## Zoo Prague lexicon scraper"
   ]
  },
  {
   "cell_type": "code",
   "execution_count": 2,
   "metadata": {},
   "outputs": [
    {
     "data": {
      "text/plain": [
       "800"
      ]
     },
     "execution_count": 2,
     "metadata": {},
     "output_type": "execute_result"
    }
   ],
   "source": [
    "url = \"https://www.zoopraha.cz/zvirata-a-expozice/lexikon-zvirat\"\n",
    "page = requests.get(url)\n",
    "soup = BeautifulSoup(page.content, 'html.parser')\n",
    "\n",
    "animals_raw = soup.find(id=\"accordionAbeceda\")\\\n",
    "    .find_all(\"div\", class_=\"para\")\n",
    "animals_url = list()\n",
    "\n",
    "for animal in animals_raw:\n",
    "    links = animal.find_all('a')\n",
    "    animals_url.extend([urlparse(link[\"href\"]) for link in links if link is not None])\n",
    "    \n",
    "len(animals_url)"
   ]
  },
  {
   "cell_type": "markdown",
   "metadata": {},
   "source": [
    "# Czech Dictionary scraper"
   ]
  },
  {
   "cell_type": "markdown",
   "metadata": {},
   "source": [
    "## OK - podstatné jméno"
   ]
  },
  {
   "cell_type": "code",
   "execution_count": 55,
   "metadata": {},
   "outputs": [
    {
     "name": "stdout",
     "output_type": "stream",
     "text": [
      "Found proper singular: dikobraz\n"
     ]
    }
   ],
   "source": [
    "word = 'dikobrazi'\n",
    "url = f\"https://prirucka.ujc.cas.cz/?slovo={word}\"\n",
    "page = requests.get(url)\n",
    "soup = BeautifulSoup(page.content, 'html.parser')\n",
    "\n",
    "table = soup.find(\"table\")\n",
    "\n",
    "#if(table is None):\n",
    "#    return\n",
    "\n",
    "if(table.a is not None):\n",
    "    # Remove links which can appear in the table and which mess up the text\n",
    "    table.a.decompose()\n",
    "\n",
    "_, singular, plural = table.find_all('tr')[1].find_all('td')\n",
    "plural = plural.text.split(',')\n",
    "plural = [v.strip() for v in plural]\n",
    "\n",
    "if(word in plurals):\n",
    "    print(f'Found proper singular: {singular.text}')\n",
    "else:\n",
    "    print('Not found')"
   ]
  },
  {
   "cell_type": "markdown",
   "metadata": {},
   "source": [
    "## OK - přídavné jméno"
   ]
  },
  {
   "cell_type": "code",
   "execution_count": 4,
   "metadata": {},
   "outputs": [],
   "source": [
    "word = 'červené'\n",
    "url = f\"https://prirucka.ujc.cas.cz/?slovo={word}\"\n",
    "page = requests.get(url)\n",
    "soup = BeautifulSoup(page.content, 'html.parser')"
   ]
  },
  {
   "cell_type": "markdown",
   "metadata": {},
   "source": [
    "## Neexistující slovo"
   ]
  },
  {
   "cell_type": "code",
   "execution_count": 5,
   "metadata": {},
   "outputs": [],
   "source": [
    "word = 'hřivnatí'\n",
    "url = f\"https://prirucka.ujc.cas.cz/?slovo={word}\"\n",
    "page = requests.get(url)\n",
    "soup = BeautifulSoup(page.content, 'html.parser')"
   ]
  }
 ],
 "metadata": {
  "kernelspec": {
   "display_name": "Python 3",
   "language": "python",
   "name": "python3"
  },
  "language_info": {
   "codemirror_mode": {
    "name": "ipython",
    "version": 3
   },
   "file_extension": ".py",
   "mimetype": "text/x-python",
   "name": "python",
   "nbconvert_exporter": "python",
   "pygments_lexer": "ipython3",
   "version": "3.9.1"
  }
 },
 "nbformat": 4,
 "nbformat_minor": 4
}
