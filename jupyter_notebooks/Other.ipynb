{
 "cells": [
  {
   "cell_type": "markdown",
   "metadata": {},
   "source": [
    "## Compute string similarity"
   ]
  },
  {
   "cell_type": "code",
   "execution_count": 1,
   "metadata": {},
   "outputs": [],
   "source": [
    "import Levenshtein\n",
    "import sys\n",
    "import difflib"
   ]
  },
  {
   "cell_type": "code",
   "execution_count": 2,
   "metadata": {},
   "outputs": [],
   "source": [
    "def compute_similarity(first: str, second: str) -> (int, int):\n",
    "    return Levenshtein.ratio(first, second), difflib.SequenceMatcher(None, first, second).ratio()"
   ]
  },
  {
   "cell_type": "code",
   "execution_count": 3,
   "metadata": {},
   "outputs": [
    {
     "name": "stdout",
     "output_type": "stream",
     "text": [
      "Levenshtein ratio between \"kůň převalského\" and \"koně převalského\" is: 0.8387096774193549\n",
      "Diflib ratio between \"kůň převalského\" and \"koně převalského\" is: 0.8387096774193549\n"
     ]
    }
   ],
   "source": [
    "# https://nlp.fi.muni.cz/languageservices/service.py?call=declension&lang=cs&output=json&text=kůň&c1=c1&c2=c1&n=nP\n",
    "# Lze použít Majka pro převod do množného rodu\n",
    "\n",
    "first = \"kůň převalského\"\n",
    "second = \"koně převalského\"\n",
    "l_ratio, dif_ratio = compute_similarity(first, second)\n",
    "\n",
    "print(f'Levenshtein ratio between \"{first}\" and \"{second}\" is: {l_ratio}')\n",
    "print(f'Diflib ratio between \"{first}\" and \"{second}\" is: {dif_ratio}')"
   ]
  },
  {
   "cell_type": "code",
   "execution_count": null,
   "metadata": {},
   "outputs": [],
   "source": []
  }
 ],
 "metadata": {
  "kernelspec": {
   "display_name": "Python 3",
   "language": "python",
   "name": "python3"
  },
  "language_info": {
   "codemirror_mode": {
    "name": "ipython",
    "version": 3
   },
   "file_extension": ".py",
   "mimetype": "text/x-python",
   "name": "python",
   "nbconvert_exporter": "python",
   "pygments_lexer": "ipython3",
   "version": "3.9.0"
  }
 },
 "nbformat": 4,
 "nbformat_minor": 4
}
